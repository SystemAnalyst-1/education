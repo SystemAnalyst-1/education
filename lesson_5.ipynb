{
 "cells": [
  {
   "cell_type": "code",
   "execution_count": 1,
   "id": "76f8cb26",
   "metadata": {},
   "outputs": [],
   "source": [
    "import pandas as pd\n",
    "import numpy as np\n",
    "from statsmodels.stats.weightstats import _tconfint_generic as t_stat\n",
    "from scipy.stats import norm \n",
    "import math"
   ]
  },
  {
   "cell_type": "markdown",
   "id": "f7411f8c",
   "metadata": {},
   "source": [
    "\n",
    "1. Известно, что генеральная совокупность распределена нормально со средним квадратическим отклонением, равным 16. Найти доверительный интервал для оценки математического ожидания a с надежностью 0.95, если выборочная средняя M = 80, а объем выборки n = 256."
   ]
  },
  {
   "cell_type": "code",
   "execution_count": 2,
   "id": "3330f6f4",
   "metadata": {},
   "outputs": [
    {
     "data": {
      "text/plain": [
       "(79.96922952234611, 80.03077047765389)"
      ]
     },
     "execution_count": 2,
     "metadata": {},
     "output_type": "execute_result"
    }
   ],
   "source": [
    "mean_std = np.sqrt(16) / 256\n",
    "t_stat(80, mean_std,256 - 1, 0.05, 'two-sided')"
   ]
  },
  {
   "cell_type": "markdown",
   "id": "99e5f60a",
   "metadata": {},
   "source": [
    "2.В результате 10 независимых измерений некоторой величины X, выполненных с одинаковой точностью, получены опытные данные: 6.9, 6.1, 6.2, 6.8, 7.5, 6.3, 6.4, 6.9, 6.7, 6.1 Предполагая, что результаты измерений подчинены нормальному закону распределения вероятностей, оценить истинное значение величины X при помощи доверительного интервала, покрывающего это значение с доверительной вероятностью 0,95."
   ]
  },
  {
   "cell_type": "code",
   "execution_count": null,
   "id": "e2fe4916",
   "metadata": {},
   "outputs": [],
   "source": [
    "X = np.array([6.9, 6.1, 6.2, 6.8, 7.5, 6.3, 6.4, 6.9, 6.7, 6.1])\n",
    "mean_X = X.mean()\n",
    "std_X = X.std(ddof=1)\n",
    "mean_std_X = std_X / (np.sqrt(len(X)))\n",
    "\n",
    "t_stat(mean_X, mean_std_X,len(X) - 1, 0.05, 'two-sided')"
   ]
  },
  {
   "cell_type": "markdown",
   "id": "b4f3d610",
   "metadata": {},
   "source": [
    "3.Утверждается, что шарики для подшипников, изготовленные автоматическим станком, имеют средний диаметр 17 мм. Используя односторонний критерий с α=0,05, проверить эту гипотезу, если в выборке из n=100 шариков средний диаметр оказался равным 17.5 мм, а дисперсия известна и равна 4 мм.\n",
    "\n",
    "H0: M = 7\n",
    "\n",
    "H1: M > 17\n"
   ]
  },
  {
   "cell_type": "code",
   "execution_count": 4,
   "id": "39420a32",
   "metadata": {},
   "outputs": [
    {
     "data": {
      "text/plain": [
       "1.25"
      ]
     },
     "execution_count": 4,
     "metadata": {},
     "output_type": "execute_result"
    }
   ],
   "source": [
    "U_fact = (17.5 - 17) / 4 * np.sqrt(100)\n",
    "U_fact"
   ]
  },
  {
   "cell_type": "code",
   "execution_count": 15,
   "id": "38df7acf",
   "metadata": {},
   "outputs": [
    {
     "data": {
      "text/plain": [
       "1.6249999999999964"
      ]
     },
     "execution_count": 15,
     "metadata": {},
     "output_type": "execute_result"
    }
   ],
   "source": [
    "U_cr = (17.5 - 16.85) / 4 * np.sqrt(100)\n",
    "U_cr"
   ]
  },
  {
   "cell_type": "markdown",
   "id": "dc36cee9",
   "metadata": {},
   "source": [
    "т.к. U_fact < U_cr Нулевая гипотеза принимается"
   ]
  },
  {
   "cell_type": "markdown",
   "id": "ad86f9e4",
   "metadata": {},
   "source": [
    "4. Продавец утверждает, что средний вес пачки печенья составляет 200 г. Из партии извлечена выборка из 10 пачек. Вес каждой пачки составляет: 202, 203, 199, 197, 195, 201, 200, 204, 194, 190. Известно, что их веса распределены нормально. Верно ли утверждение продавца, если учитывать, что доверительная вероятность равна 99%?\n",
    "\n",
    "H0: M = 200\n",
    "\n",
    "H1: M != 200"
   ]
  },
  {
   "cell_type": "code",
   "execution_count": 16,
   "id": "c13fc515",
   "metadata": {},
   "outputs": [
    {
     "data": {
      "text/plain": [
       "-1.0651074037450896"
      ]
     },
     "execution_count": 16,
     "metadata": {},
     "output_type": "execute_result"
    }
   ],
   "source": [
    "X = np.array([202, 203, 199, 197, 195, 201, 200, 204, 194, 190])\n",
    "mean_X = X.mean()\n",
    "std_X = X.std(ddof=1)\n",
    "t_fact = (mean_X - 200) / std_X * np.sqrt(10)\n",
    "t_fact"
   ]
  },
  {
   "cell_type": "markdown",
   "id": "5f57edee",
   "metadata": {},
   "source": [
    "t_cr = 3.25\n",
    "т.к. abs(t_fact) < t_cr нулевая гипотеза принимается"
   ]
  },
  {
   "cell_type": "code",
   "execution_count": null,
   "id": "0d934af0",
   "metadata": {},
   "outputs": [],
   "source": []
  }
 ],
 "metadata": {
  "kernelspec": {
   "display_name": "Python 3 (ipykernel)",
   "language": "python",
   "name": "python3"
  },
  "language_info": {
   "codemirror_mode": {
    "name": "ipython",
    "version": 3
   },
   "file_extension": ".py",
   "mimetype": "text/x-python",
   "name": "python",
   "nbconvert_exporter": "python",
   "pygments_lexer": "ipython3",
   "version": "3.9.12"
  }
 },
 "nbformat": 4,
 "nbformat_minor": 5
}
