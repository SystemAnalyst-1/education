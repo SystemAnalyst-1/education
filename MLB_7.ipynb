{
 "cells": [
  {
   "cell_type": "markdown",
   "metadata": {
    "id": "o7AnMUFxqzxK"
   },
   "source": [
    "взять любой набор данных для бинарной классификации (можно скачать один из модельных с https://archive.ics.uci.edu/ml/datasets.php)"
   ]
  },
  {
   "cell_type": "code",
   "execution_count": null,
   "metadata": {
    "id": "_yJFfTXBsf8R"
   },
   "outputs": [],
   "source": [
    "import pandas as pd\n",
    "import numpy as np\n",
    "from sklearn.pipeline import Pipeline, make_pipeline\n",
    "from sklearn.base import BaseEstimator, TransformerMixin\n",
    "from sklearn.linear_model import LogisticRegression\n",
    "from sklearn.model_selection import train_test_split\n",
    "import itertools\n",
    "\n",
    "import matplotlib.pyplot as plt\n",
    "\n",
    "%matplotlib inline"
   ]
  },
  {
   "cell_type": "code",
   "execution_count": null,
   "metadata": {
    "colab": {
     "base_uri": "https://localhost:8080/"
    },
    "id": "qeL_iX6Stp7V",
    "outputId": "4540a8c8-fd7c-4fa9-bef2-317db033d5b9"
   },
   "outputs": [],
   "source": [
    "!wget 'https://drive.google.com/uc?export=download&id=1yIIxDfW7Wfq-wPlbsa0dFrSlD3r-Ai91' -O churn_data.csv"
   ]
  },
  {
   "cell_type": "code",
   "execution_count": null,
   "metadata": {
    "colab": {
     "base_uri": "https://localhost:8080/",
     "height": 143
    },
    "id": "LDKU90Nbsf8U",
    "outputId": "af9a4b90-6c07-4405-fd34-4bd3de41ec45"
   },
   "outputs": [],
   "source": [
    "df = pd.read_csv(\"churn_data.csv\")\n",
    "df.head(3)"
   ]
  },
  {
   "cell_type": "code",
   "execution_count": null,
   "metadata": {
    "colab": {
     "base_uri": "https://localhost:8080/"
    },
    "id": "m76pJ_spsf8X",
    "outputId": "42168513-05d6-447b-c330-89ec244a81a7"
   },
   "outputs": [],
   "source": [
    "df['Exited'].value_counts()"
   ]
  },
  {
   "cell_type": "code",
   "execution_count": null,
   "metadata": {
    "id": "mBAkHjXXsf8c"
   },
   "outputs": [],
   "source": [
    "#СЂР°Р·РґРµР»РёРј РґР°РЅРЅС‹Рµ РЅР° train/test\n",
    "X_train, X_test, y_train, y_test = train_test_split(df.drop(columns=['Exited']), df['Exited'], random_state=0)"
   ]
  },
  {
   "cell_type": "code",
   "execution_count": null,
   "metadata": {
    "colab": {
     "base_uri": "https://localhost:8080/",
     "height": 143
    },
    "id": "CDJDAsM-sf8h",
    "outputId": "4f90366d-c3b2-4700-838b-b03fe690f534"
   },
   "outputs": [],
   "source": [
    "df.head(3)"
   ]
  },
  {
   "cell_type": "markdown",
   "metadata": {
    "id": "efYT8DsQsf8j"
   },
   "source": [
    "сделать обзорный анализ выбранного датасета"
   ]
  },
  {
   "cell_type": "code",
   "execution_count": null,
   "metadata": {
    "id": "HfpW0u5dsf8k"
   },
   "outputs": [],
   "source": [
    "cat_columns = ['Geography', 'Gender', 'Tenure', 'HasCrCard', 'IsActiveMember']\n",
    "cont_columns = ['CreditScore', 'Age', 'Balance', 'NumOfProducts', 'EstimatedSalary']\n",
    "\n",
    "X_train = X_train[cat_columns + cont_columns]\n",
    "X_test = X_test[cat_columns + cont_columns]"
   ]
  },
  {
   "cell_type": "markdown",
   "metadata": {
    "id": "wG61QI_osf80"
   },
   "source": [
    "## 3.обучить любой классификатор (какой вам нравится)"
   ]
  },
  {
   "cell_type": "code",
   "execution_count": null,
   "metadata": {
    "colab": {
     "base_uri": "https://localhost:8080/"
    },
    "id": "2W6UwC7wu2H7",
    "outputId": "915761e9-c145-4e7d-f209-dbdb3b6c77d2"
   },
   "outputs": [],
   "source": [
    "!pip install catboost\n",
    "from catboost import CatBoostClassifier"
   ]
  },
  {
   "cell_type": "code",
   "execution_count": null,
   "metadata": {
    "id": "JV_NZ7nSsf8y"
   },
   "outputs": [],
   "source": [
    "model = CatBoostClassifier(random_state=42, n_estimators=50, cat_features=cat_columns)"
   ]
  },
  {
   "cell_type": "code",
   "execution_count": null,
   "metadata": {
    "colab": {
     "base_uri": "https://localhost:8080/"
    },
    "id": "k1p2QSdnsf81",
    "outputId": "4ef6b584-9f11-4d52-ef11-6fcf241c8c05",
    "scrolled": false
   },
   "outputs": [],
   "source": [
    "# РѕР±СѓС‡РёРј РЅР°С€ РїР°Р№РїР»Р°Р№РЅ\n",
    "model.fit(X_train, y_train)"
   ]
  },
  {
   "cell_type": "code",
   "execution_count": null,
   "metadata": {
    "colab": {
     "base_uri": "https://localhost:8080/"
    },
    "id": "slMACCiJsf83",
    "outputId": "f32213ff-d6e5-4855-c0fd-0d020497a105"
   },
   "outputs": [],
   "source": [
    "# РЅР°С€Рё РїСЂРѕРіРЅРѕР·С‹ РґР»СЏ С‚РµСЃС‚РѕРІРѕР№ РІС‹Р±РѕСЂРєРё\n",
    "preds = model.predict_proba(X_test)[:, 1]\n",
    "preds[:10]"
   ]
  },
  {
   "cell_type": "code",
   "execution_count": null,
   "metadata": {
    "id": "DEOAaK4Gsf87"
   },
   "outputs": [],
   "source": [
    "from sklearn.metrics import f1_score, roc_auc_score, precision_score, classification_report, precision_recall_curve, confusion_matrix"
   ]
  },
  {
   "cell_type": "code",
   "execution_count": null,
   "metadata": {
    "colab": {
     "base_uri": "https://localhost:8080/"
    },
    "id": "AakONIjnsf88",
    "outputId": "e05bf6e1-969a-4cc8-8f84-1235d6bafc5f"
   },
   "outputs": [],
   "source": [
    "precision, recall, thresholds = precision_recall_curve(y_test, preds)\n",
    "\n",
    "fscore = (2 * precision * recall) / (precision + recall)\n",
    "# locate the index of the largest f score\n",
    "ix = np.argmax(fscore)\n",
    "print(f'Best Threshold={thresholds[ix]}, F-Score={fscore[ix]:.3f}, Precision={precision[ix]:.3f}, Recall={recall[ix]:.3f}')"
   ]
  },
  {
   "cell_type": "code",
   "execution_count": null,
   "metadata": {
    "colab": {
     "base_uri": "https://localhost:8080/"
    },
    "id": "_E8cn3-cr5QB",
    "outputId": "40b9009c-ec09-431c-ab88-8d3e4e7c5846"
   },
   "outputs": [],
   "source": [
    "roc_auc = roc_auc_score(y_test, preds)\n",
    "roc_auc"
   ]
  },
  {
   "cell_type": "markdown",
   "metadata": {
    "id": "MrFbqeS5VGJk"
   },
   "source": [
    "## 4.  разобраться с SHAP и построить важности признаков для:\n",
    "- всего тестового набора данных (summary_plot - дать интерпретацию)\n",
    "- для топ 10%"
   ]
  },
  {
   "cell_type": "code",
   "execution_count": null,
   "metadata": {
    "colab": {
     "base_uri": "https://localhost:8080/"
    },
    "id": "O5dmsYxcfoO5",
    "outputId": "12088504-722a-45ee-aaa6-d62ddb795548"
   },
   "outputs": [],
   "source": [
    "!pip install shap"
   ]
  },
  {
   "cell_type": "code",
   "execution_count": null,
   "metadata": {
    "id": "BknOF3XOtt3Y"
   },
   "outputs": [],
   "source": [
    "import shap\n",
    "\n",
    "explainer = shap.TreeExplainer(model)"
   ]
  },
  {
   "cell_type": "code",
   "execution_count": null,
   "metadata": {
    "colab": {
     "base_uri": "https://localhost:8080/"
    },
    "id": "hEKDVcNHyF2t",
    "outputId": "5a48b2e7-76db-42cd-8292-b2f3a3283011"
   },
   "outputs": [],
   "source": [
    "preds_train = model.predict_proba(X_train)[:, 1]\n",
    "preds_train"
   ]
  },
  {
   "cell_type": "code",
   "execution_count": null,
   "metadata": {
    "colab": {
     "base_uri": "https://localhost:8080/"
    },
    "id": "LqCPedx9sg-m",
    "outputId": "8efbe97f-a993-463a-92f8-98a8058d0526"
   },
   "outputs": [],
   "source": [
    "%%time\n",
    "shap_values_all = explainer.shap_values(X_train)"
   ]
  },
  {
   "cell_type": "code",
   "execution_count": null,
   "metadata": {
    "id": "1COfTeACzXXs"
   },
   "outputs": [],
   "source": [
    "features = cat_columns + cont_columns"
   ]
  },
  {
   "cell_type": "code",
   "execution_count": null,
   "metadata": {
    "colab": {
     "base_uri": "https://localhost:8080/",
     "height": 368
    },
    "id": "Z7Lp_dqbfp2f",
    "outputId": "6e63fb46-9eb2-4958-8353-ab03b7fb6125"
   },
   "outputs": [],
   "source": [
    "shap.summary_plot(shap_values_all, X_train, feature_names=features)"
   ]
  },
  {
   "cell_type": "code",
   "execution_count": null,
   "metadata": {
    "colab": {
     "base_uri": "https://localhost:8080/",
     "height": 211
    },
    "id": "n_sRypsufrjJ",
    "outputId": "740a9542-1b84-453f-98fe-f712dbd87689"
   },
   "outputs": [],
   "source": [
    "# visualize the first prediction's explanation\n",
    "shap.initjs()\n",
    "idx = 1\n",
    "print('pred is', preds_train[idx])\n",
    "shap.force_plot(explainer.expected_value, shap_values_all[idx,:], features=X_train.iloc[idx,:], feature_names=features)"
   ]
  },
  {
   "cell_type": "code",
   "execution_count": null,
   "metadata": {
    "colab": {
     "base_uri": "https://localhost:8080/",
     "height": 211
    },
    "id": "eOVbyXkIgUSA",
    "outputId": "c6778b2e-93bd-4458-8155-3a72ad1695b3"
   },
   "outputs": [],
   "source": [
    "# visualize the first prediction's explanation\n",
    "shap.initjs()\n",
    "idx = 2\n",
    "print('pred is', preds_train[idx])\n",
    "shap.force_plot(explainer.expected_value, shap_values_all[idx,:], features=X_train.iloc[idx,:], feature_names=features)"
   ]
  },
  {
   "cell_type": "code",
   "execution_count": null,
   "metadata": {
    "colab": {
     "base_uri": "https://localhost:8080/",
     "height": 211
    },
    "id": "KjRNFwcHgUfR",
    "outputId": "85191cf2-a918-49dc-9822-f5cf17035a0f"
   },
   "outputs": [],
   "source": [
    "# visualize the first prediction's explanation\n",
    "shap.initjs()\n",
    "idx = 7499\n",
    "print('pred is', preds_train[idx])\n",
    "shap.force_plot(explainer.expected_value, shap_values_all[idx,:], features=X_train.iloc[idx,:], feature_names=features)"
   ]
  },
  {
   "cell_type": "code",
   "execution_count": null,
   "metadata": {
    "colab": {
     "base_uri": "https://localhost:8080/",
     "height": 211
    },
    "id": "Km8Q5v0kgUvR",
    "outputId": "1b407531-a5e2-40c7-e51d-45e1c1bdc6db"
   },
   "outputs": [],
   "source": [
    "# visualize the first prediction's explanation\n",
    "shap.initjs()\n",
    "idx = 40\n",
    "print('pred is', preds_train[idx])\n",
    "shap.force_plot(explainer.expected_value, shap_values_all[idx,:], features=X_train.iloc[idx,:], feature_names=features)"
   ]
  },
  {
   "cell_type": "code",
   "execution_count": null,
   "metadata": {
    "colab": {
     "base_uri": "https://localhost:8080/",
     "height": 211
    },
    "id": "9_4M7YStgU5j",
    "outputId": "511f378b-35b5-4b72-bef5-f9bec855209b"
   },
   "outputs": [],
   "source": [
    "# visualize the first prediction's explanation\n",
    "shap.initjs()\n",
    "idx = 5644\n",
    "print('pred is', preds_train[idx])\n",
    "shap.force_plot(explainer.expected_value, shap_values_all[idx,:], features=X_train.iloc[idx,:], feature_names=features)"
   ]
  }
 ],
 "metadata": {
  "colab": {
   "provenance": [],
   "toc_visible": true
  },
  "kernelspec": {
   "display_name": "Python 3 (ipykernel)",
   "language": "python",
   "name": "python3"
  },
  "language_info": {
   "codemirror_mode": {
    "name": "ipython",
    "version": 3
   },
   "file_extension": ".py",
   "mimetype": "text/x-python",
   "name": "python",
   "nbconvert_exporter": "python",
   "pygments_lexer": "ipython3",
   "version": "3.9.12"
  }
 },
 "nbformat": 4,
 "nbformat_minor": 1
}
