{
 "cells": [
  {
   "cell_type": "markdown",
   "id": "5f3020d5",
   "metadata": {},
   "source": [
    "# Собрать информацию о вакансиях на вводимую должность с сайтов hh.ru и/или Superjob и/или работа.ру. Приложение должно анализировать несколько страниц сайта. Получившийся список должен содержать в себе минимум:\n",
    "Наименование вакансии.\n",
    "Предлагаемую зарплату (дополнительно: разносим в три поля: минимальная и максимальная и валюта. цифры преобразуем к цифрам).\n",
    "Ссылку на саму вакансию.\n",
    "Сайт, откуда собрана вакансия."
   ]
  },
  {
   "cell_type": "code",
   "execution_count": 1,
   "id": "16c87089",
   "metadata": {},
   "outputs": [
    {
     "name": "stdout",
     "output_type": "stream",
     "text": [
      "Collecting bs4\n",
      "  Downloading bs4-0.0.1.tar.gz (1.1 kB)\n",
      "Requirement already satisfied: beautifulsoup4 in d:\\anaconda\\lib\\site-packages (from bs4) (4.11.1)\n",
      "Requirement already satisfied: soupsieve>1.2 in d:\\anaconda\\lib\\site-packages (from beautifulsoup4->bs4) (2.3.1)\n",
      "Building wheels for collected packages: bs4\n",
      "  Building wheel for bs4 (setup.py): started\n",
      "  Building wheel for bs4 (setup.py): finished with status 'done'\n",
      "  Created wheel for bs4: filename=bs4-0.0.1-py3-none-any.whl size=1272 sha256=5d17ea612d450b37aa731dc59f169f34bc7c9fc99b16128cdb76a0ffc1a5adb8\n",
      "  Stored in directory: c:\\users\\home\\appdata\\local\\pip\\cache\\wheels\\73\\2b\\cb\\099980278a0c9a3e57ff1a89875ec07bfa0b6fcbebb9a8cad3\n",
      "Successfully built bs4\n",
      "Installing collected packages: bs4\n",
      "Successfully installed bs4-0.0.1\n",
      "Note: you may need to restart the kernel to use updated packages.\n"
     ]
    }
   ],
   "source": [
    "pip install bs4"
   ]
  },
  {
   "cell_type": "code",
   "execution_count": 100,
   "id": "f3458079",
   "metadata": {},
   "outputs": [],
   "source": [
    "from bs4 import BeautifulSoup as bs\n",
    "import requests\n",
    "import json"
   ]
  },
  {
   "cell_type": "code",
   "execution_count": 103,
   "id": "db4f91a7",
   "metadata": {},
   "outputs": [],
   "source": [
    "params_first={\n",
    "    'area':'1',\n",
    "    'page':'',\n",
    "    'text':'scientist'\n",
    "}\n",
    "headers = {\n",
    "    'User-Agent':\t'Mozilla/5.0 (Windows NT 10.0; Win64; x64) AppleWebKit/537.36 (KHTML, like Gecko) Chrome/104.0.0.0 Safari/537.36',\n",
    "}\n",
    "url = 'https://tver.hh.ru/search/vacancy'\n",
    "result =[]\n",
    "for i in range(3):\n",
    "    params_first['page'] = str(i)\n",
    "    response = requests.get(url, headers=headers, params=params_first)\n",
    "    soup = bs(response.content, 'html.parser')    \n",
    "    vacancies = soup.find_all('div', attrs={'class': 'vacancy-serp-item-body__main-info'})\n",
    "    for vacancy in vacancies:\n",
    "        if(len(vacancy.find_all('span', attrs={'class': 'bloko-header-section-3'})) > 0):\n",
    "            salary = vacancy.find('span', attrs={'class': 'bloko-header-section-3'}).text\n",
    "        else: salary =''\n",
    "        intermediate_result ={\n",
    "            'Name': vacancy.find('a', attrs={'class': 'bloko-link'}).text,\n",
    "            'salary': salary,\n",
    "            'Url':vacancy.find('a', attrs={'class': 'bloko-link'})['href'],\n",
    "            'Web': url,\n",
    "        }\n",
    "        result.append(intermediate_result)\n",
    "with open('data_03_03.json', 'w') as outfile:\n",
    "    json.dump(result, outfile)"
   ]
  },
  {
   "cell_type": "code",
   "execution_count": null,
   "id": "4f678a64",
   "metadata": {},
   "outputs": [],
   "source": []
  }
 ],
 "metadata": {
  "kernelspec": {
   "display_name": "Python 3 (ipykernel)",
   "language": "python",
   "name": "python3"
  },
  "language_info": {
   "codemirror_mode": {
    "name": "ipython",
    "version": 3
   },
   "file_extension": ".py",
   "mimetype": "text/x-python",
   "name": "python",
   "nbconvert_exporter": "python",
   "pygments_lexer": "ipython3",
   "version": "3.9.12"
  }
 },
 "nbformat": 4,
 "nbformat_minor": 5
}
