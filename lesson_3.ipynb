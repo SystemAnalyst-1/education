{
 "cells": [
  {
   "cell_type": "code",
   "execution_count": 1,
   "id": "7feaf836",
   "metadata": {},
   "outputs": [],
   "source": [
    "import numpy as np\n",
    "import pandas as pd\n",
    "import matplotlib.pyplot as plt\n",
    "import warnings"
   ]
  },
  {
   "cell_type": "markdown",
   "id": "d83cdfe9",
   "metadata": {},
   "source": [
    "Задание 1"
   ]
  },
  {
   "cell_type": "code",
   "execution_count": 10,
   "id": "850779a9",
   "metadata": {},
   "outputs": [],
   "source": [
    "salaries = [100, 80, 75, 77, 89, 33, 45, 25, 65, 17, 30, 24, 57, 55, 70, 75, 65, 84, 90, 150]\n",
    "\n",
    "\n",
    "#Среднее арифметическое\n",
    "sr_ar = sum(salaries)/len(salaries)\n",
    "\n",
    "#среднее квадратичное отклонение\n",
    "salary_std  = 0\n",
    "for salary in salaries:\n",
    "  salary_std += (salary - sr_ar)**2\n",
    "salary_std= salary_std/len(salaries)\n",
    "#смешанная дисперсия\n",
    "salary_variance = salary_std**2\n",
    "\n",
    "#несмешанная дисперсия\n",
    "salary_nonvariance = 0\n",
    "for salary in salaries:\n",
    "  salary_nonvariance += (salary - sr_ar)**2\n",
    "salary_nonvariance= salary_nonvariance/(len(salaries)-1)"
   ]
  },
  {
   "cell_type": "raw",
   "id": "42a0f53a",
   "metadata": {},
   "source": [
    "Задание 2"
   ]
  },
  {
   "cell_type": "code",
   "execution_count": 11,
   "id": "2271a8b8",
   "metadata": {},
   "outputs": [
    {
     "data": {
      "text/plain": [
       "0.3686868686868687"
      ]
     },
     "execution_count": 11,
     "metadata": {},
     "output_type": "execute_result"
    }
   ],
   "source": [
    "P = (10*1/28)*(5*35/495)+(5*3/28)*(10*21/495)+(1*3/28)*(10*7/495)\n",
    "P"
   ]
  },
  {
   "cell_type": "markdown",
   "id": "14caccec",
   "metadata": {},
   "source": [
    "Задание 3"
   ]
  },
  {
   "cell_type": "code",
   "execution_count": 13,
   "id": "4315807a",
   "metadata": {},
   "outputs": [],
   "source": [
    "A = 1/4 * 0.8 + 1/4 * 0.7 + 1/2 * 0.9\n",
    "# На факультете А\n",
    "P_a = (1/4 * 0.8) / A\n",
    "# На факультете B\n",
    "P_b = (1/4 * 0.7) / A\n",
    "# На факультете C\n",
    "P_c = (1/2 * 0.9) / A\n"
   ]
  },
  {
   "cell_type": "code",
   "execution_count": null,
   "id": "8ed89a17",
   "metadata": {},
   "outputs": [],
   "source": [
    "Задание 4"
   ]
  },
  {
   "cell_type": "code",
   "execution_count": 12,
   "id": "8411ba78",
   "metadata": {},
   "outputs": [],
   "source": [
    "P_a = 0.1*0.2*0.25\n",
    "P_b = 0.1*0.2*0.75+0.1*0.8*0.25+0.9*0.2*0.25\n",
    "P_c = 1-(0.9*0.8*0.75)\n",
    "P_d = 0.1*0.8*0.75+0.9*0.2*0.75+0.9*0.8*0.25+0.1*0.2*0.75+0.1*0.8*0.25+0.9*0.2*0.25"
   ]
  },
  {
   "cell_type": "code",
   "execution_count": null,
   "id": "6152cffc",
   "metadata": {},
   "outputs": [],
   "source": []
  }
 ],
 "metadata": {
  "kernelspec": {
   "display_name": "Python 3 (ipykernel)",
   "language": "python",
   "name": "python3"
  },
  "language_info": {
   "codemirror_mode": {
    "name": "ipython",
    "version": 3
   },
   "file_extension": ".py",
   "mimetype": "text/x-python",
   "name": "python",
   "nbconvert_exporter": "python",
   "pygments_lexer": "ipython3",
   "version": "3.9.12"
  }
 },
 "nbformat": 4,
 "nbformat_minor": 5
}
