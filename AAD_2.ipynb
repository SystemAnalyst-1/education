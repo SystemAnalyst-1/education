{
 "cells": [
  {
   "cell_type": "code",
   "execution_count": 5,
   "id": "5b5ee8f7",
   "metadata": {},
   "outputs": [],
   "source": [
    "import numpy as np\n",
    "from sklearn import datasets\n",
    "import matplotlib.pyplot as plt\n",
    "from mpl_toolkits.mplot3d.axes3d import Axes3D\n",
    "from sklearn.linear_model import LinearRegression\n",
    "from sklearn.preprocessing import PolynomialFeatures\n",
    "from sklearn.pipeline import make_pipeline\n",
    "import pandas as pd\n",
    "\n",
    "%matplotlib inline\n",
    "import warnings\n",
    "warnings.filterwarnings('ignore')"
   ]
  },
  {
   "cell_type": "code",
   "execution_count": 6,
   "id": "f93ebc29",
   "metadata": {},
   "outputs": [],
   "source": [
    "def mserror(X, w, y_pred):\n",
    "    y = X.dot(w)\n",
    "    return (sum((y - y_pred)**2)) / len(y)"
   ]
  },
  {
   "cell_type": "code",
   "execution_count": 7,
   "id": "463e3182",
   "metadata": {},
   "outputs": [],
   "source": [
    "def min_max_scale(X):\n",
    "    return (X - X.min()) / (X.max() - X.min())"
   ]
  },
  {
   "cell_type": "code",
   "execution_count": 8,
   "id": "7d6cb9f6",
   "metadata": {},
   "outputs": [],
   "source": [
    "def standard_scale(X):\n",
    "    mean = X.mean()\n",
    "    std = X.std()\n",
    "    return (X - mean) / std"
   ]
  },
  {
   "cell_type": "code",
   "execution_count": 9,
   "id": "efbc4176",
   "metadata": {},
   "outputs": [],
   "source": [
    "def calc_mse(y, y_pred):\n",
    "    err = np.mean((y - y_pred)**2)\n",
    "    return err"
   ]
  },
  {
   "cell_type": "code",
   "execution_count": 115,
   "id": "d62b9521",
   "metadata": {},
   "outputs": [],
   "source": [
    "def gradient_descent(X, y, iterations, eta=1e-4):\n",
    "    W = np.random.randn(X.shape[1])\n",
    "    n = X.shape[0]\n",
    "    errors = []\n",
    "    for i in range(0, iterations):\n",
    "        y_pred = np.dot(X, W)\n",
    "        err = calc_mse(y, y_pred)\n",
    "        dQ = 2/n * X.T @ (y_pred - y) # градиент функции ошибки\n",
    "        W -= (eta * dQ)\n",
    "        if i % (iterations / 10) == 0:\n",
    "            print(f'Iter: {i}, weights: {W}, error {err}')\n",
    "            errors.append(err)\n",
    "    print(f'Final MSE: {calc_mse(y, np.dot(X, W))}')\n",
    "    return errors"
   ]
  },
  {
   "cell_type": "code",
   "execution_count": 116,
   "id": "05791361",
   "metadata": {},
   "outputs": [],
   "source": [
    "def stohastic_gradient_descent(X, y, iterations, batch_size, eta=1e-4):\n",
    "    W = np.random.randn(X.shape[1])\n",
    "    n = X.shape[0]\n",
    "    errors = []\n",
    "    n_batch = n // batch_size    \n",
    "    if n % batch_size != 0:\n",
    "        n_batch += 1\n",
    "    print(f'amount of batches is {n_batch}')\n",
    "        \n",
    "    for i in range(0, iterations):\n",
    "        \n",
    "        for b in range(n_batch):\n",
    "            inds = np.random.randint(n, size=batch_size)\n",
    "\n",
    "            X_tmp = X[inds, ]\n",
    "            y_tmp = np.array(y)[inds]\n",
    "\n",
    "            \n",
    "            y_pred_tmp = np.dot(X_tmp, W)\n",
    "            dQ = 2/len(y_tmp) * X_tmp.T @ (y_pred_tmp - y_tmp) # градиент функции ошибки\n",
    "            W -= (eta * dQ)\n",
    "            \n",
    "            err = calc_mse(y, np.dot(X, W))\n",
    "        \n",
    "        if i % (iterations / 10) == 0:\n",
    "            print(f'Iter: {i}, weights: {W}, error {err}')\n",
    "            errors.append(err)\n",
    "    \n",
    "    print(f'Final MSE: {calc_mse(y, np.dot(X, W))}')\n",
    "    return errors"
   ]
  },
  {
   "cell_type": "code",
   "execution_count": 117,
   "id": "efc86c87",
   "metadata": {},
   "outputs": [],
   "source": [
    "X, Y, coef = datasets.make_regression(n_samples=1000, n_features=2, n_informative=2, n_targets=1, \n",
    "                                      noise=5, coef=True, random_state=2)\n",
    "y = x_data = np.random.uniform(-10, 10, 1000)"
   ]
  },
  {
   "cell_type": "code",
   "execution_count": 118,
   "id": "97760d3b",
   "metadata": {},
   "outputs": [],
   "source": [
    "X_st = X.copy().astype(np.float64)\n",
    "X_st[:, 0] = standard_scale(X_st[:, 0])\n",
    "X_st[:, 1] = standard_scale(X_st[:, 1])\n",
    "errors__5 = []"
   ]
  },
  {
   "cell_type": "code",
   "execution_count": 123,
   "id": "85e4fba6",
   "metadata": {},
   "outputs": [
    {
     "name": "stdout",
     "output_type": "stream",
     "text": [
      "Iter: 0, weights: [-0.1157984  -1.04516056], error 8677.995585020386\n",
      "Iter: 40, weights: [33.39319834 36.49424508], error 1823.3778772235435\n",
      "Iter: 80, weights: [48.66098123 53.52329546], error 407.29677357312556\n",
      "Iter: 120, weights: [55.61681672 61.24879557], error 114.74612779820416\n",
      "Iter: 160, weights: [58.78553168 64.75384992], error 54.30654853941845\n",
      "Iter: 200, weights: [60.22890702 66.34420381], error 41.819819716873184\n",
      "Iter: 240, weights: [60.88632145 67.06584708], error 39.240042011799\n",
      "Iter: 280, weights: [61.18573025 67.39332355], error 38.70704869012286\n",
      "Iter: 320, weights: [61.32208075 67.54193948], error 38.59692856838227\n",
      "Iter: 360, weights: [61.3841701  67.60938876], error 38.57417672335576\n",
      "Final MSE: 38.56947592954995\n"
     ]
    }
   ],
   "source": [
    "errors_1 = gradient_descent(X_st, Y, iterations=400, eta=1e-2)"
   ]
  },
  {
   "cell_type": "code",
   "execution_count": 133,
   "id": "b37f6ca9",
   "metadata": {},
   "outputs": [
    {
     "name": "stdout",
     "output_type": "stream",
     "text": [
      "amount of batches is 500\n",
      "Iter: 0, weights: [61.09408555 67.25406763], error 38.847643483788\n",
      "Iter: 40, weights: [61.07052442 67.83749659], error 38.7345147069513\n",
      "Iter: 80, weights: [61.37159456 66.88635007], error 39.176978195876615\n",
      "Iter: 120, weights: [61.00854661 67.70839399], error 38.753759993881154\n",
      "Iter: 160, weights: [60.45319074 67.52257677], error 39.54793281775227\n",
      "Iter: 200, weights: [61.56756228 67.71831624], error 38.58800073514403\n",
      "Iter: 240, weights: [61.32414951 67.76625342], error 38.59148461330768\n",
      "Iter: 280, weights: [61.03016392 67.57203697], error 38.73990612205166\n",
      "Iter: 320, weights: [61.58044775 68.18815926], error 38.85867533727823\n",
      "Iter: 360, weights: [62.11583229 67.00031375], error 39.49457877613946\n",
      "Final MSE: 38.937947261960424\n"
     ]
    }
   ],
   "source": [
    "errors_2 = stohastic_gradient_descent(X_st, Y, iterations=400, batch_size=2, eta=1e-2)"
   ]
  },
  {
   "cell_type": "code",
   "execution_count": 132,
   "id": "a65ef5a7",
   "metadata": {},
   "outputs": [
    {
     "data": {
      "text/plain": [
       "[<matplotlib.lines.Line2D at 0x2166b2eaac0>,\n",
       " <matplotlib.lines.Line2D at 0x2166b2eab20>]"
      ]
     },
     "execution_count": 132,
     "metadata": {},
     "output_type": "execute_result"
    },
    {
     "data": {
      "image/png": "[encoded data removed]",
      "text/plain": [
       "<Figure size 432x288 with 1 Axes>"
      ]
     },
     "metadata": {
      "needs_background": "light"
     },
     "output_type": "display_data"
    }
   ],
   "source": [
    "x = np.arange(0, 400, 40)\n",
    "plt.plot(x,errors_1,x,errors_2)"
   ]
  },
  {
   "cell_type": "markdown",
   "id": "c06d6122",
   "metadata": {},
   "source": [
    "Как мы видим на графике в данном случае (с 2 весами) стахостический метод почти сразу попал правильно, но его выполнение заняло сильно больше времени чем стандартный. Поэтому в такой задаче лучше использовать классический градиентный спуск"
   ]
  },
  {
   "cell_type": "code",
   "execution_count": null,
   "id": "998949fd",
   "metadata": {},
   "outputs": [],
   "source": []
  }
 ],
 "metadata": {
  "kernelspec": {
   "display_name": "Python 3 (ipykernel)",
   "language": "python",
   "name": "python3"
  },
  "language_info": {
   "codemirror_mode": {
    "name": "ipython",
    "version": 3
   },
   "file_extension": ".py",
   "mimetype": "text/x-python",
   "name": "python",
   "nbconvert_exporter": "python",
   "pygments_lexer": "ipython3",
   "version": "3.9.12"
  }
 },
 "nbformat": 4,
 "nbformat_minor": 5
}
