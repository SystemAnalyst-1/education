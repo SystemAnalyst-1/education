{
 "cells": [
  {
   "cell_type": "markdown",
   "id": "0dc4d16d",
   "metadata": {},
   "source": [
    "Случайная непрерывная величина A имеет равномерное распределение на промежутке (200, 800].\n",
    "Найдите ее среднее значение и дисперсию."
   ]
  },
  {
   "cell_type": "code",
   "execution_count": 2,
   "id": "f0663fbc",
   "metadata": {},
   "outputs": [
    {
     "data": {
      "text/plain": [
       "30000.0"
      ]
     },
     "execution_count": 2,
     "metadata": {},
     "output_type": "execute_result"
    }
   ],
   "source": [
    "Midl = (200 + 800)/2\n",
    "D = (800-200)**2/12"
   ]
  },
  {
   "cell_type": "markdown",
   "id": "7f1b9191",
   "metadata": {},
   "source": [
    "О случайной непрерывной равномерно распределенной величине B известно, что ее дисперсия равна 0.2.\n",
    "Можно ли найти правую границу величины B и ее среднее значение зная, что левая граница равна 0.5?\n",
    "Если да, найдите ее."
   ]
  },
  {
   "cell_type": "code",
   "execution_count": null,
   "id": "87f1f64a",
   "metadata": {},
   "outputs": [],
   "source": [
    "left = 0.5\n",
    "c = np.sqrt(2.4)\n",
    "right = c + a\n",
    "Midl = (left + right)/2"
   ]
  },
  {
   "cell_type": "markdown",
   "id": "47cab5c2",
   "metadata": {},
   "source": [
    "Непрерывная случайная величина X распределена нормально и задана плотностью распределения\n",
    "f(x) = (1 / (4 * sqrt(2*pi))) * (exp(-(x+2)**2) / 32).\n",
    "Найдите:\n",
    "а). M(X)\n",
    "б). D(X)\n",
    "в). std(X) (среднее квадратичное отклонение)"
   ]
  },
  {
   "cell_type": "code",
   "execution_count": 14,
   "id": "22e165fa",
   "metadata": {},
   "outputs": [],
   "source": [
    "import sympy\n",
    "import math\n",
    "\n",
    "x = sympy.symbols('x')\n",
    "f = x*(1 / (4 * math.sqrt(2*math.pi)))* (math.exp(-(x+2)**2)   / 32)\n",
    "M = sympy.integrate(f, x)\n",
    "f2 =x**2*(1 / (4 * math.sqrt(2*math.pi)))* (math.exp(-(x+2)**2)  / 32)\n",
    "D = sympy.integrate(f, x) - M\n",
    "std = math.sqrt(D)"
   ]
  },
  {
   "cell_type": "markdown",
   "id": "9b339173",
   "metadata": {},
   "source": [
    "Рост взрослого населения города X имеет нормальное распределение.\n",
    "Причем, средний рост равен 174 см, а среднее квадратичное отклонение равно 8 см.\n",
    "Какова вероятность того, что случайным образом выбранный взрослый человек имеет рост:\n",
    "а). больше 182 см\n",
    "б). больше 190 см\n",
    "в). от 166 см до 190 см\n",
    "г). от 166 см до 182 см\n",
    "д). от 158 см до 190 см\n",
    "е). не выше 150 см или не ниже 190 см\n",
    "ё). не выше 150 см или не ниже 198 см\n",
    "ж). ниже 166 см."
   ]
  },
  {
   "cell_type": "code",
   "execution_count": 15,
   "id": "4cc73126",
   "metadata": {},
   "outputs": [],
   "source": [
    "Pa=1-0,3413\n",
    "Pb=1-0,4772\n",
    "Pc=0,4772+0,3413\n",
    "Pd=0,3413+0,3413\n",
    "Pe=0,4772+0,4772\n",
    "Pf=0,4772+0,49865\n",
    "Pg=0,49865+0,49865\n",
    "Ph=0,3413"
   ]
  },
  {
   "cell_type": "markdown",
   "id": "3102e1e3",
   "metadata": {},
   "source": [
    "На сколько сигм (средних квадратичных отклонений) отклоняется рост человека, равный 190 см, от\n",
    "математического ожидания роста в популяции, в которой M(X) = 178 см и D(X) = 25 кв.см?"
   ]
  },
  {
   "cell_type": "code",
   "execution_count": 16,
   "id": "72006574",
   "metadata": {},
   "outputs": [],
   "source": [
    "sigma = math.sqrt(25)\n",
    "answer = (190-178)/sigma"
   ]
  },
  {
   "cell_type": "code",
   "execution_count": null,
   "id": "26370f26",
   "metadata": {},
   "outputs": [],
   "source": []
  }
 ],
 "metadata": {
  "kernelspec": {
   "display_name": "Python 3 (ipykernel)",
   "language": "python",
   "name": "python3"
  },
  "language_info": {
   "codemirror_mode": {
    "name": "ipython",
    "version": 3
   },
   "file_extension": ".py",
   "mimetype": "text/x-python",
   "name": "python",
   "nbconvert_exporter": "python",
   "pygments_lexer": "ipython3",
   "version": "3.9.12"
  }
 },
 "nbformat": 4,
 "nbformat_minor": 5
}
