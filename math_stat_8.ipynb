{
 "cells": [
  {
   "cell_type": "code",
   "execution_count": 1,
   "id": "d4c575e3",
   "metadata": {},
   "outputs": [],
   "source": [
    "import pandas as pd\n",
    "import numpy as np"
   ]
  },
  {
   "cell_type": "markdown",
   "id": "eb5f21a3",
   "metadata": {},
   "source": [
    "1. Провести дисперсионный анализ для определения того, есть ли различия среднего роста среди взрослых футболистов, хоккеистов и штангистов. Даны значения роста в трех группах случайно выбранных спортсменов: Футболисты: 173, 175, 180, 178, 177, 185, 183, 182. Хоккеисты: 177, 179, 180, 188, 177, 172, 171, 184, 180. Штангисты: 172, 173, 169, 177, 166, 180, 178, 177, 172, 166, 170."
   ]
  },
  {
   "cell_type": "code",
   "execution_count": 2,
   "id": "04587c56",
   "metadata": {},
   "outputs": [],
   "source": [
    "footballers = np.array([173, 175, 180, 178, 177, 185, 183, 182])\n",
    "hockey_players = np.array([177, 179, 180, 188, 177, 172, 171, 184, 180])\n",
    "weightlifters = np.array([172, 173, 169, 177, 166, 180, 178, 177, 172, 166, 170])"
   ]
  },
  {
   "cell_type": "markdown",
   "id": "3dc87d3a",
   "metadata": {},
   "source": [
    "Средний рост"
   ]
  },
  {
   "cell_type": "code",
   "execution_count": 3,
   "id": "1b9636bb",
   "metadata": {},
   "outputs": [
    {
     "data": {
      "text/plain": [
       "830.964285714286"
      ]
     },
     "execution_count": 3,
     "metadata": {},
     "output_type": "execute_result"
    }
   ],
   "source": [
    "f_mean = footballers.mean()\n",
    "h_mean = hockey_players.mean()\n",
    "w_mean = weightlifters.mean()\n",
    "all_hight = np.hstack((footballers,hockey_players, weightlifters))\n",
    "all_mean = all_hight.mean()\n",
    "all_s2 = np.sum((all_hight - all_mean) ** 2)\n",
    "s2f = (f_mean - all_mean) ** 2 * len(footballers) + (h_mean - all_mean) ** 2 * len(hockey_players) + (w_mean - all_mean) ** 2 * len(weightlifters)\n",
    "s2_ost = np.sum((footballers - f_mean) ** 2) + np.sum((hockey_players - h_mean) ** 2) + np.sum((weightlifters - w_mean) ** 2)\n",
    "s2_ost + s2f"
   ]
  },
  {
   "cell_type": "markdown",
   "id": "f75cd07f",
   "metadata": {},
   "source": [
    "Общая дисперсия"
   ]
  },
  {
   "cell_type": "code",
   "execution_count": 4,
   "id": "4104aa2a",
   "metadata": {},
   "outputs": [],
   "source": [
    "s2_general = all_s2 / (len(all_hight) - 1)"
   ]
  },
  {
   "cell_type": "markdown",
   "id": "bdb89476",
   "metadata": {},
   "source": [
    "Факторная дисперсия"
   ]
  },
  {
   "cell_type": "code",
   "execution_count": 5,
   "id": "c31535c0",
   "metadata": {},
   "outputs": [],
   "source": [
    "s2_factor = s2f / (3 - 1)"
   ]
  },
  {
   "cell_type": "markdown",
   "id": "90b6d30c",
   "metadata": {},
   "source": [
    "Остаточная дисперсия"
   ]
  },
  {
   "cell_type": "code",
   "execution_count": 6,
   "id": "eed7f47d",
   "metadata": {},
   "outputs": [
    {
     "data": {
      "text/plain": [
       "23.08227272727273"
      ]
     },
     "execution_count": 6,
     "metadata": {},
     "output_type": "execute_result"
    }
   ],
   "source": [
    "s2_residual = s2_ost / (len(all_hight) - 3)\n",
    "s2_residual"
   ]
  },
  {
   "cell_type": "code",
   "execution_count": 7,
   "id": "6f65e81c",
   "metadata": {},
   "outputs": [],
   "source": [
    "F_h = s2_factor / s2_residual"
   ]
  },
  {
   "cell_type": "code",
   "execution_count": 8,
   "id": "4f6a8df7",
   "metadata": {},
   "outputs": [
    {
     "data": {
      "text/plain": [
       "28"
      ]
     },
     "execution_count": 8,
     "metadata": {},
     "output_type": "execute_result"
    }
   ],
   "source": [
    "len(all_hight)"
   ]
  },
  {
   "cell_type": "code",
   "execution_count": 9,
   "id": "97eb0e42",
   "metadata": {},
   "outputs": [
    {
     "data": {
      "text/plain": [
       "(2, 25)"
      ]
     },
     "execution_count": 9,
     "metadata": {},
     "output_type": "execute_result"
    }
   ],
   "source": [
    "alpha = 0.05\n",
    "d_f1 = 3 - 1\n",
    "d_f2 = len(all_hight) - 3\n",
    "d_f1, d_f2"
   ]
  },
  {
   "cell_type": "code",
   "execution_count": 10,
   "id": "45a4d6fa",
   "metadata": {},
   "outputs": [],
   "source": [
    "\n",
    "F_kr = 3.4928"
   ]
  },
  {
   "cell_type": "code",
   "execution_count": 11,
   "id": "2cfd776a",
   "metadata": {},
   "outputs": [
    {
     "data": {
      "text/plain": [
       "False"
      ]
     },
     "execution_count": 11,
     "metadata": {},
     "output_type": "execute_result"
    }
   ],
   "source": [
    "F_kr > F_h"
   ]
  },
  {
   "cell_type": "markdown",
   "id": "84c64beb",
   "metadata": {},
   "source": [
    "Следовательно, различие между выборками существено"
   ]
  },
  {
   "cell_type": "code",
   "execution_count": null,
   "id": "087bef8d",
   "metadata": {},
   "outputs": [],
   "source": []
  }
 ],
 "metadata": {
  "kernelspec": {
   "display_name": "Python 3 (ipykernel)",
   "language": "python",
   "name": "python3"
  },
  "language_info": {
   "codemirror_mode": {
    "name": "ipython",
    "version": 3
   },
   "file_extension": ".py",
   "mimetype": "text/x-python",
   "name": "python",
   "nbconvert_exporter": "python",
   "pygments_lexer": "ipython3",
   "version": "3.9.12"
  }
 },
 "nbformat": 4,
 "nbformat_minor": 5
}
