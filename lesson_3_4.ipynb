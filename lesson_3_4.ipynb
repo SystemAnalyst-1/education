{
  "nbformat": 4,
  "nbformat_minor": 0,
  "metadata": {
    "colab": {
      "provenance": [],
      "collapsed_sections": []
    },
    "kernelspec": {
      "name": "python3",
      "display_name": "Python 3"
    },
    "language_info": {
      "name": "python"
    }
  },
  "cells": [
    {
      "cell_type": "code",
      "execution_count": 1,
      "metadata": {
        "id": "pSaayQ9lmOH5"
      },
      "outputs": [],
      "source": [
        "# Урок 4\n",
        "\n",
        "# Системы управления базами данных MongoDB и SQLite в Python"
      ]
    },
    {
      "cell_type": "code",
      "source": [
        "!pip install pymongo"
      ],
      "metadata": {
        "colab": {
          "base_uri": "https://localhost:8080/"
        },
        "id": "z02F2cyxmWgu",
        "outputId": "2c9ac4b2-31c1-4e5c-bd08-2e084bba3752"
      },
      "execution_count": 1,
      "outputs": [
        {
          "output_type": "stream",
          "name": "stdout",
          "text": [
            "Looking in indexes: https://pypi.org/simple, https://us-python.pkg.dev/colab-wheels/public/simple/\n",
            "Requirement already satisfied: pymongo in /usr/local/lib/python3.7/dist-packages (4.2.0)\n"
          ]
        }
      ]
    },
    {
      "cell_type": "code",
      "source": [
        "from pymongo import MongoClient\n",
        "from pymongo.errors import  DuplicateKeyError\n",
        "from pprint import pprint\n",
        "from lxml import html\n",
        "import requests"
      ],
      "metadata": {
        "id": "E4YFHwaimZ7h"
      },
      "execution_count": 2,
      "outputs": []
    },
    {
      "cell_type": "code",
      "source": [
        "client = MongoClient('mongodb://127.0.0.1:27017/')\n",
        "USER_AGENT = 'Mozilla/5.0 (Windows NT 10.0; Win64; x64) AppleWebKit/537.36 (KHTML, like Gecko) Chrome/104.0.0.0 Safari/537.36'\n",
        "URL_YANDES_NEWS = 'https://yandex.ru/news'\n",
        "URL_LENTA_NEWS = 'https://lenta.ru/'\n",
        "headers = {\n",
        "    'User-Agent': USER_AGENT,\n",
        "}"
      ],
      "metadata": {
        "id": "Rja_Qz8AmdBW"
      },
      "execution_count": 3,
      "outputs": []
    },
    {
      "cell_type": "code",
      "source": [
        "db = client.testdb"
      ],
      "metadata": {
        "id": "zXqh9dHumgVR"
      },
      "execution_count": 4,
      "outputs": []
    },
    {
      "cell_type": "code",
      "source": [
        "def get_content_dom_from_html_text(url, headers=None, params=None):\n",
        "    response = requests.get(url, headers=headers, params=params)\n",
        "    content_dom = html.fromstring(response.text)\n",
        "    \n",
        "    return content_dom\n",
        "\n",
        "\n",
        "def parser_yandex_news(content_dom):\n",
        "    news_container = content_dom.xpath(\"//section//div[contains(@class, 'mg-grid__item')]\")\n",
        "\n",
        "    yandex_news = []\n",
        "    for new_container in news_container:\n",
        "        new_source = new_container.xpath(\".//div[@class='mg-card-footer__left']//a/text()\")[0]\n",
        "        new_text = new_container.xpath(\".//h2/a/text()\")[0].replace('\\xa0', ' ')\n",
        "        new_url = new_container.xpath(\".//h2/a/@href\")[0]\n",
        "        new_date = new_container.xpath(\".//span[@class='mg-card-source__time']/text()\")[0]\n",
        "        \n",
        "        news_dict = {\n",
        "            'new_source': new_source,\n",
        "            'new_text': new_text,\n",
        "            'new_url': new_url,\n",
        "            'Дата new_date': new_date,\n",
        "        }\n",
        "        \n",
        "        yandex_news.append(news_dict)\n",
        "        \n",
        "    return yandex_news\n",
        "\n",
        "\n",
        "def parser_lenta_news(content_dom):\n",
        "    news_container = content_dom.xpath(\"//a[contains(@class, 'card-')]\")\n",
        "\n",
        "    lenta_news = []\n",
        "    for new_container in news_container:\n",
        "        new_source = new_container.xpath(\".//*[name()='svg']/*[name()='use']/attribute::*\")\n",
        "        if len(new_source) == 1:\n",
        "            new_source = new_source[0].split('ui-label_')\n",
        "            if len(new_source) == 2:\n",
        "                new_source = new_source[1]\n",
        "            else:\n",
        "                new_source = 'Lenta.ru'\n",
        "        else:\n",
        "            new_source = 'Lenta.ru'\n",
        "\n",
        "            \n",
        "        new_text = new_container.xpath(\".//span[contains(@class, 'card-')]/text()\")\n",
        "        if len(new_text) == 1:\n",
        "            new_text = new_text[0]\n",
        "        else:\n",
        "            new_text = None\n",
        "            \n",
        "        new_url = URL_LENTA_NEWS + new_container.xpath(\"./@href\")[0]\n",
        "        \n",
        "        new_date = new_container.xpath(\".//time/text()\")\n",
        "        if len(new_date) == 1:\n",
        "            new_date = new_date[0]\n",
        "        else:\n",
        "            new_date = None\n",
        "        \n",
        "        news_dict = {\n",
        "            'new_source': new_source,\n",
        "            'new_text': new_text,\n",
        "            'new_url': new_url,\n",
        "            'Дата new_date': new_date,\n",
        "        }\n",
        "        \n",
        "        lenta_news.append(news_dict)\n",
        "        \n",
        "    return lenta_news\n",
        "\n",
        "\n",
        "def get_news(content_dom, parser_name='yandex'):\n",
        "    result = None\n",
        "    \n",
        "    if parser_name == 'yandex':\n",
        "        result = parser_yandex_news(content_dom)\n",
        "    if parser_name == 'lenta':\n",
        "        result = parser_lenta_news(content_dom)\n",
        "    \n",
        "    return result\n",
        "\n",
        "def insert_new_row(parsed_file:list):\n",
        "    try:\n",
        "      if(type(parsed_file)==list):\n",
        "        for doc in parsed_file:\n",
        "          doc['_id']= doc['new_text']+doc['new_source']\n",
        "          db.testdb.insert_many(doc)\n",
        "      elif(type(parsed_file)==dict):\n",
        "        parsed_file['_id']= parsed_file['new_text']+parsed_file['new_source']\n",
        "        db.testdb.insert_one(parsed_file)\n",
        "      else: \n",
        "        return(\"Неверный тип данных\")\n",
        "      return(\"Добавление прошло успешно\")\n",
        "    except:\n",
        "      return(\"При добавлении произошла ошибка\")"
      ],
      "metadata": {
        "id": "FvOvoBWvmkEw"
      },
      "execution_count": 56,
      "outputs": []
    },
    {
      "cell_type": "code",
      "source": [
        "dom = get_content_dom_from_html_text(URL_YANDES_NEWS, headers=headers)\n",
        "insert_new_row(get_news(dom, 'yandex'))"
      ],
      "metadata": {
        "colab": {
          "base_uri": "https://localhost:8080/",
          "height": 36
        },
        "id": "gnGpRJ5knfMB",
        "outputId": "c1443b19-9287-41cd-a545-a9dd99a0dbdd"
      },
      "execution_count": 57,
      "outputs": [
        {
          "output_type": "execute_result",
          "data": {
            "text/plain": [
              "'Добавление прошло успешно'"
            ],
            "application/vnd.google.colaboratory.intrinsic+json": {
              "type": "string"
            }
          },
          "metadata": {},
          "execution_count": 57
        }
      ]
    }
  ]
}