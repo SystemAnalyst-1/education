{
 "cells": [
  {
   "cell_type": "code",
   "execution_count": 1,
   "id": "debafb82",
   "metadata": {},
   "outputs": [],
   "source": [
    "import numpy as np\n",
    "import matplotlib.pyplot as plt\n",
    "from mpl_toolkits.mplot3d.axes3d import Axes3D"
   ]
  },
  {
   "cell_type": "code",
   "execution_count": 2,
   "id": "93239ef2",
   "metadata": {},
   "outputs": [],
   "source": [
    "# реализуем функцию, определяющую среднеквадратичную ошибку\n",
    "def mserror(X, w, y):\n",
    "    y_pred = X.dot(w)\n",
    "    return (np.sum((y_pred - y)**2)) / len(y)"
   ]
  },
  {
   "cell_type": "code",
   "execution_count": 3,
   "id": "413e20eb",
   "metadata": {},
   "outputs": [],
   "source": [
    "def mse_manual(w1, w2, y_pred):\n",
    "    w = np.array([w1, w2])\n",
    "    y = X.dot(w)\n",
    "    return (sum((y - y_pred)**2)) / len(y)"
   ]
  },
  {
   "cell_type": "code",
   "execution_count": 4,
   "id": "8c192ca0",
   "metadata": {},
   "outputs": [],
   "source": [
    "def calc_mae(y, y_pred):\n",
    "    err = np.mean(np.abs(y - y_pred))\n",
    "    return err\n"
   ]
  },
  {
   "cell_type": "code",
   "execution_count": 5,
   "id": "82bbfe88",
   "metadata": {},
   "outputs": [],
   "source": [
    "def calc_mse(y, y_pred):\n",
    "    err = np.mean((y - y_pred)**2)\n",
    "    return err"
   ]
  },
  {
   "cell_type": "markdown",
   "id": "02ae2665",
   "metadata": {},
   "source": [
    "Проведите небольшое исследование алгоритма градиентного спуска. Оцените влияние значений скорости обучения (eta) и количества итераций на ошибку алгоритма. Как связаны эти два гиперпараметра между собой? Подберите скорость обучения и количество итераций до совпадения ответов алгоритма с результатами МНК. Как можно ускорить процесс вычисления весов?"
   ]
  },
  {
   "cell_type": "code",
   "execution_count": 111,
   "id": "dd05f24e",
   "metadata": {},
   "outputs": [
    {
     "name": "stdout",
     "output_type": "stream",
     "text": [
      "Number of objects = 10        \n",
      "Learning rate = 0.1        \n",
      "Initial weights = [1.  0.5] \n",
      "\n",
      "Iteration #0: W_new = [11.8 38.2], MSE = 3047.75\n",
      "Iteration #10: W_new = [ 6589.88036408 36191.64626818], MSE = 5639557395.36\n",
      "Iteration #20: W_new = [1000380.07114712 5516565.84903617], MSE = 201784522090516.6\n",
      "Iteration #30: W_new = [14561852.12967846 80303559.17297027], MSE = 6.839679947957586e+16\n",
      "Iteration #40: W_new = [15485403.97838904 85396630.49657184], MSE = 1.3053283039714602e+17\n",
      "Iteration #50: W_new = [ 810134.72159844 4467388.51701649], MSE = 652474650998656.2\n",
      "Iteration #60: W_new = [1148.13359749 6093.07182626], MSE = 2514090708.57\n",
      "Iteration #70: W_new = [44.30809146  4.01811934], MSE = 45.06\n",
      "Iteration #80: W_new = [44.49618193  3.91519305], MSE = 44.13\n",
      "Iteration #90: W_new = [44.62700163  3.89147091], MSE = 44.06\n",
      "Iteration #100: W_new = [44.71579279  3.87537001], MSE = 44.03\n",
      "Iteration #110: W_new = [44.77806429  3.86407803], MSE = 44.01\n",
      "Iteration #120: W_new = [44.82299368  3.85593078], MSE = 44.0\n",
      "Final iteration #129: W_new = [44.85311401  3.85046892], MSE = 43.99\n"
     ]
    }
   ],
   "source": [
    "np.random.seed(1234)\n",
    "# Возьмем 2 признака и 1000 объектов\n",
    "n_features = 2\n",
    "n_objects = 1000\n",
    "\n",
    "# сгенерируем вектор истинных весов\n",
    "w_true = np.random.normal(size=(n_features))\n",
    "\n",
    "X = np.array([[ 1,  1],\n",
    "              [ 1,  1],\n",
    "              [ 1,  2],\n",
    "              [ 1,  5],\n",
    "              [ 1,  3],\n",
    "              [ 1,  0],\n",
    "              [ 1,  5],\n",
    "              [ 1, 10],\n",
    "              [ 1,  1],\n",
    "              [ 1,  2]])\n",
    "\n",
    "y = [45, 55, 50, 55, 60, 35, 75, 80, 50, 60]\n",
    "\n",
    "n = X.shape[0]\n",
    "\n",
    "eta = 1e-1\n",
    "n_iter = 130\n",
    "\n",
    "W = np.array([1, 0.5])\n",
    "print(f'Number of objects = {n} \\\n",
    "       \\nLearning rate = {eta} \\\n",
    "       \\nInitial weights = {W} \\n')\n",
    "\n",
    "for i in range(n_iter):\n",
    "    y_pred = np.dot(X, W)\n",
    "    err_prev = err\n",
    "    err = calc_mse(y, y_pred)\n",
    "    for k in range(W.shape[0]):\n",
    "        W[k] -= eta * (1/n * 2 * X[:, k] @ (y_pred - y))\n",
    "    if i % 10 == 0:\n",
    "        eta /= 1.15 #увеличил на 0.05\n",
    "        print(f'Iteration #{i}: W_new = {W}, MSE = {round(err, 2)}')\n",
    "print(f'Final iteration #{i}: W_new = {W}, MSE = {round(err, 2)}')  "
   ]
  },
  {
   "cell_type": "markdown",
   "id": "9c9cd303",
   "metadata": {},
   "source": [
    "Скорость обучения и количество итераций связаны обратно, чем меньше шаг тем больше итераций требуется для достижения результата."
   ]
  },
  {
   "cell_type": "markdown",
   "id": "37fa42d6",
   "metadata": {},
   "source": [
    "Ускорить процесс вычисления весов можно с помощью увеличения начального шага и ускорения его уменьшения, но в таком случае придётся перенастраивать эти значения даже при небольшом изменении вводных данных\n"
   ]
  },
  {
   "cell_type": "markdown",
   "id": "2ee3c87d",
   "metadata": {},
   "source": [
    "2*. В этом коде мы избавляемся от итераций по весам, но тут есть ошибка, исправьте ее"
   ]
  },
  {
   "cell_type": "code",
   "execution_count": 90,
   "id": "918051b0",
   "metadata": {},
   "outputs": [
    {
     "name": "stdout",
     "output_type": "stream",
     "text": [
      "Number of objects = 10        \n",
      "Learning rate = 0.01        \n",
      "Initial weights = [1.  0.5] \n",
      "\n",
      "Iteration #0: W_new = [4.77 4.27], MSE = 3047.75\n",
      "Iteration #10: W_new = [10.39080638  9.89080638], MSE = 610.5\n",
      "Iteration #20: W_new = [10.42479324  9.92479324], MSE = 608.57\n",
      "Iteration #30: W_new = [10.42499875  9.92499875], MSE = 608.56\n",
      "Iteration #40: W_new = [10.42499999  9.92499999], MSE = 608.56\n",
      "Iteration #50: W_new = [10.425  9.925], MSE = 608.56\n",
      "Iteration #60: W_new = [10.425  9.925], MSE = 608.56\n",
      "Iteration #70: W_new = [10.425  9.925], MSE = 608.56\n",
      "Iteration #80: W_new = [10.425  9.925], MSE = 608.56\n",
      "Iteration #90: W_new = [10.425  9.925], MSE = 608.56\n"
     ]
    }
   ],
   "source": [
    "n = X.shape[0]\n",
    "\n",
    "eta = 1e-2 \n",
    "n_iter = 100\n",
    "\n",
    "W = np.array([1, 0.5])\n",
    "print(f'Number of objects = {n} \\\n",
    "       \\nLearning rate = {eta} \\\n",
    "       \\nInitial weights = {W} \\n')\n",
    "\n",
    "for i in range(n_iter):\n",
    "    y_pred = np.dot(X, W)\n",
    "    err = calc_mse(y, y_pred)\n",
    "#     for k in range(W.shape[0]):\n",
    "#         W[k] -= eta * (1/n * 2 * X[:, k] @ (y_pred - y))\n",
    "    # ИЗМЕНЕНИЯ X на X[:, k]\n",
    "    W -= eta * (1/n * 2 * np.dot(X[:, k], y_pred - y))\n",
    "    # ИЗМЕНЕНИЯ\n",
    "    #\n",
    "    if i % 10 == 0:\n",
    "        print(f'Iteration #{i}: W_new = {W}, MSE = {round(err,2)}')"
   ]
  },
  {
   "cell_type": "code",
   "execution_count": 115,
   "id": "181b2e49",
   "metadata": {},
   "outputs": [
    {
     "name": "stdout",
     "output_type": "stream",
     "text": [
      "Number of objects = 10        \n",
      "Learning rate = 0.01        \n",
      "Initial weights = [1.  0.5] \n",
      "\n",
      "Iteration #0: W_new = [2.08 4.27], MSE = 3047.75\n",
      "Iteration #10: W_new = [ 7.0011236 10.6169007], MSE = 738.65\n",
      "Iteration #20: W_new = [10.3486292  10.10603105], MSE = 622.03\n",
      "Iteration #30: W_new = [13.38789582  9.55618391], MSE = 525.24\n",
      "Iteration #40: W_new = [16.16088505  9.05336203], MSE = 444.66\n",
      "Iteration #50: W_new = [18.69110735  8.59454545], MSE = 377.58\n",
      "Iteration #60: W_new = [20.99981865  8.17589626], MSE = 321.72\n",
      "Iteration #70: W_new = [23.10641138  7.79389815], MSE = 275.22\n",
      "Iteration #80: W_new = [25.02858024  7.44534246], MSE = 236.5\n",
      "Iteration #90: W_new = [26.78247081  7.12730145], MSE = 204.27\n",
      "Iteration #100: W_new = [28.38281518  6.83710367], MSE = 177.43\n",
      "Iteration #110: W_new = [29.84305573  6.57231156], MSE = 155.08\n",
      "Iteration #120: W_new = [31.17545797  6.33070096], MSE = 136.48\n",
      "Iteration #130: W_new = [32.39121367  6.11024241], MSE = 120.99\n",
      "Iteration #140: W_new = [33.50053475  5.90908413], MSE = 108.09\n",
      "Iteration #150: W_new = [34.51273915  5.72553647], MSE = 97.36\n",
      "Iteration #160: W_new = [35.43632906  5.55805768], MSE = 88.42\n",
      "Iteration #170: W_new = [36.27906231  5.405241  ], MSE = 80.98\n",
      "Iteration #180: W_new = [37.0480176   5.26580281], MSE = 74.78\n",
      "Iteration #190: W_new = [37.74965389  5.13857189], MSE = 69.62\n",
      "Iteration #200: W_new = [38.38986469  5.02247953], MSE = 65.33\n",
      "Iteration #210: W_new = [38.97402756  4.9165506 ], MSE = 61.75\n",
      "Iteration #220: W_new = [39.50704928  4.81989533], MSE = 58.77\n",
      "Iteration #230: W_new = [39.99340705  4.73170185], MSE = 56.29\n",
      "Iteration #240: W_new = [40.43718613  4.65122936], MSE = 54.23\n",
      "Iteration #250: W_new = [40.84211409  4.57780191], MSE = 52.51\n",
      "Iteration #260: W_new = [41.21159221  4.51080275], MSE = 51.08\n",
      "Iteration #270: W_new = [41.54872398  4.4496691 ], MSE = 49.89\n",
      "Final iteration #276: W_new = [41.70605487  4.42113957], MSE = 49.37\n"
     ]
    }
   ],
   "source": [
    "\n",
    "eta = 1e-2\n",
    "i=0\n",
    "err_prev = 1\n",
    "\n",
    "W = np.array([1, 0.5])\n",
    "print(f'Number of objects = {n} \\\n",
    "       \\nLearning rate = {eta} \\\n",
    "       \\nInitial weights = {W} \\n')\n",
    "\n",
    "while abs(err_prev - err) > 0.1:\n",
    "    y_pred = np.dot(X, W)\n",
    "    err_prev = err\n",
    "    err = calc_mse(y, y_pred)\n",
    "    for k in range(W.shape[0]):\n",
    "        W[k] -= eta * (1/n * 2 * X[:, k] @ (y_pred - y))\n",
    "    if i % 10 == 0:\n",
    "        print(f'Iteration #{i}: W_new = {W}, MSE = {round(err, 2)}')\n",
    "    i+=1\n",
    "print(f'Final iteration #{i}: W_new = {W}, MSE = {round(err, 2)}')  "
   ]
  },
  {
   "cell_type": "code",
   "execution_count": null,
   "id": "249266fe",
   "metadata": {},
   "outputs": [],
   "source": []
  }
 ],
 "metadata": {
  "kernelspec": {
   "display_name": "Python 3 (ipykernel)",
   "language": "python",
   "name": "python3"
  },
  "language_info": {
   "codemirror_mode": {
    "name": "ipython",
    "version": 3
   },
   "file_extension": ".py",
   "mimetype": "text/x-python",
   "name": "python",
   "nbconvert_exporter": "python",
   "pygments_lexer": "ipython3",
   "version": "3.9.12"
  }
 },
 "nbformat": 4,
 "nbformat_minor": 5
}
