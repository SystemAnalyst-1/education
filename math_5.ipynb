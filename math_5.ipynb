{
 "cells": [
  {
   "cell_type": "code",
   "execution_count": 1,
   "id": "19f4df6d",
   "metadata": {},
   "outputs": [],
   "source": [
    "import numpy as np"
   ]
  },
  {
   "cell_type": "markdown",
   "id": "286417d6",
   "metadata": {},
   "source": [
    "Задание 1: Напишите код, моделирующий выпадение поля в рулетке (с учетом поля зеро)."
   ]
  },
  {
   "cell_type": "code",
   "execution_count": 2,
   "id": "bb8ffec8",
   "metadata": {},
   "outputs": [
    {
     "data": {
      "text/plain": [
       "26"
      ]
     },
     "execution_count": 2,
     "metadata": {},
     "output_type": "execute_result"
    }
   ],
   "source": [
    "np.random.randint(0, 36)"
   ]
  },
  {
   "cell_type": "markdown",
   "id": "0cd3e686",
   "metadata": {},
   "source": [
    "Задание 2: Напишите код, проверяющий любую из теорем сложения или умножения вероятности на примере рулетки или подбрасывания монетки."
   ]
  },
  {
   "cell_type": "code",
   "execution_count": 14,
   "id": "43c73a05",
   "metadata": {},
   "outputs": [
    {
     "name": "stdout",
     "output_type": "stream",
     "text": [
      "выпал орёл или решка\n"
     ]
    }
   ],
   "source": [
    "k = 0\n",
    "m = 0\n",
    "pk = 0.5\n",
    "pm = 0.5\n",
    "for i in range(1):\n",
    "    np.random.uniform(0, 10)\n",
    "    if i > 5:\n",
    "        k += 1\n",
    "    else:\n",
    "        m += 1\n",
    "if (pk + pm) == k or (pk + pm) == m:\n",
    "    print(\"выпал орёл или решка\")"
   ]
  },
  {
   "cell_type": "markdown",
   "id": "2352e9a9",
   "metadata": {},
   "source": [
    "Задание 2:Сгенерируйте десять выборок случайных чисел х0, …, х9.\n",
    "и постройте гистограмму распределения случайной суммы  +х0+ …+ х 9. "
   ]
  },
  {
   "cell_type": "code",
   "execution_count": 15,
   "id": "98c0a20d",
   "metadata": {},
   "outputs": [],
   "source": [
    "import matplotlib.pyplot as plt\n",
    "import matplotlib.mlab as mlab"
   ]
  },
  {
   "cell_type": "code",
   "execution_count": 16,
   "id": "4952c1c9",
   "metadata": {},
   "outputs": [
    {
     "data": {
      "text/plain": [
       "(array([3., 0., 0., 1., 1., 1., 0., 3., 0., 1.]),\n",
       " array([-5.23476169, -4.28538848, -3.33601527, -2.38664206, -1.43726885,\n",
       "        -0.48789563,  0.46147758,  1.41085079,  2.360224  ,  3.30959721,\n",
       "         4.25897042]),\n",
       " <BarContainer object of 10 artists>)"
      ]
     },
     "execution_count": 16,
     "metadata": {},
     "output_type": "execute_result"
    },
    {
     "data": {
      "image/png": "[encoded data removed]",
      "text/plain": [
       "<Figure size 432x288 with 1 Axes>"
      ]
     },
     "metadata": {
      "needs_background": "light"
     },
     "output_type": "display_data"
    }
   ],
   "source": [
    "x0 = np.random.randn(10)\n",
    "x1 = np.random.randn(10)\n",
    "x2 = np.random.randn(10)\n",
    "x3 = np.random.randn(10)\n",
    "x4 = np.random.randn(10)\n",
    "x5 = np.random.randn(10)\n",
    "x6 = np.random.randn(10)\n",
    "x7 = np.random.randn(10)\n",
    "x8 = np.random.randn(10)\n",
    "x9 = np.random.randn(10)\n",
    "x_sum = x0 + x1 + x2 + x3 + x4 + x5 + x6 + x7 + x8 + x9\n",
    "\n",
    "plt.hist(x_sum)"
   ]
  },
  {
   "cell_type": "markdown",
   "id": "fc3c47a8",
   "metadata": {},
   "source": [
    "Задание 3: Дополните код Монте-Карло последовательности независимых испытаний расчетом соответствующих вероятностей (через биномиальное распределение) \n",
    "и сравните результаты."
   ]
  },
  {
   "cell_type": "code",
   "execution_count": 17,
   "id": "df5649ce",
   "metadata": {},
   "outputs": [
    {
     "name": "stdout",
     "output_type": "stream",
     "text": [
      "380 1000 0.38\n"
     ]
    }
   ],
   "source": [
    "k = 0\n",
    "n = 1000\n",
    "a = np.random.randint(0, 2, n)\n",
    "b = np.random.randint(0, 2, n)\n",
    "c = np.random.randint(0, 2, n)\n",
    "d = np.random.randint(0, 2, n)\n",
    "x = a + b + c + d\n",
    "for i in range(0, n):\n",
    "    if x[i] == 2:\n",
    "        k = k + 1\n",
    "print(k, n, k/n)"
   ]
  },
  {
   "cell_type": "code",
   "execution_count": 18,
   "id": "9744767b",
   "metadata": {},
   "outputs": [
    {
     "data": {
      "text/plain": [
       "0.375"
      ]
     },
     "execution_count": 18,
     "metadata": {},
     "output_type": "execute_result"
    }
   ],
   "source": [
    "Q = 6 / 2**4\n",
    "Q"
   ]
  },
  {
   "cell_type": "markdown",
   "id": "8b522551",
   "metadata": {},
   "source": [
    "Задание 3: Повторите расчеты биномиальных коэффициентов и вероятностей k успехов в последовательности из n независимых испытаний, взяв другие значения n и k."
   ]
  },
  {
   "cell_type": "code",
   "execution_count": 21,
   "id": "1bb3f2ab",
   "metadata": {},
   "outputs": [
    {
     "name": "stdout",
     "output_type": "stream",
     "text": [
      "309 1000 0.309\n"
     ]
    },
    {
     "data": {
      "text/plain": [
       "0.3125"
      ]
     },
     "execution_count": 21,
     "metadata": {},
     "output_type": "execute_result"
    }
   ],
   "source": [
    "k = 0\n",
    "n = 1000\n",
    "a = np.random.randint(0, 2, n)\n",
    "b = np.random.randint(0, 2, n)\n",
    "c = np.random.randint(0, 2, n)\n",
    "d = np.random.randint(0, 2, n)\n",
    "e = np.random.randint(0, 2, n)\n",
    "x = a + b + c + d + e\n",
    "for i in range(0, n):\n",
    "    if x[i] == 3:\n",
    "        k = k + 1\n",
    "print(k, n, k/n)\n",
    "\n",
    "A_5_3 = 5*4*3*2 / (3*2*2)\n",
    "B_5_3 = A_5_3 / 2**5\n",
    "B_5_3"
   ]
  },
  {
   "cell_type": "code",
   "execution_count": null,
   "id": "f80194c7",
   "metadata": {},
   "outputs": [],
   "source": []
  }
 ],
 "metadata": {
  "kernelspec": {
   "display_name": "Python 3 (ipykernel)",
   "language": "python",
   "name": "python3"
  },
  "language_info": {
   "codemirror_mode": {
    "name": "ipython",
    "version": 3
   },
   "file_extension": ".py",
   "mimetype": "text/x-python",
   "name": "python",
   "nbconvert_exporter": "python",
   "pygments_lexer": "ipython3",
   "version": "3.9.12"
  }
 },
 "nbformat": 4,
 "nbformat_minor": 5
}
